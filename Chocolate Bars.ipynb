{
 "cells": [
  {
   "cell_type": "markdown",
   "metadata": {},
   "source": [
    "# Dark Chocolate Bars and Iron"
   ]
  },
  {
   "cell_type": "markdown",
   "metadata": {},
   "source": [
    "The purpose of this project is to analyze dark chocolate bars and their iron content. "
   ]
  },
  {
   "cell_type": "code",
   "execution_count": 1,
   "metadata": {},
   "outputs": [],
   "source": [
    "import pandas as pd\n",
    "import numpy as np\n",
    "import seaborn as sns\n",
    "import matplotlib\n",
    "import matplotlib.pyplot as plt\n",
    "%matplotlib inline\n",
    "import scipy.stats as stats\n",
    "import sklearn\n",
    "from sklearn import linear_model"
   ]
  },
  {
   "cell_type": "code",
   "execution_count": 2,
   "metadata": {},
   "outputs": [],
   "source": [
    "#load spreadsheet\n",
    "chocolate = pd.read_excel('Documents/MCDataBootCamp/Personal project/chocolatebars.xlsx')"
   ]
  },
  {
   "cell_type": "code",
   "execution_count": 3,
   "metadata": {},
   "outputs": [
    {
     "data": {
      "text/plain": [
       "(225, 12)"
      ]
     },
     "execution_count": 3,
     "metadata": {},
     "output_type": "execute_result"
    }
   ],
   "source": [
    "#check dimensions\n",
    "chocolate.shape"
   ]
  },
  {
   "cell_type": "code",
   "execution_count": 4,
   "metadata": {},
   "outputs": [
    {
     "data": {
      "text/html": [
       "<div>\n",
       "<style scoped>\n",
       "    .dataframe tbody tr th:only-of-type {\n",
       "        vertical-align: middle;\n",
       "    }\n",
       "\n",
       "    .dataframe tbody tr th {\n",
       "        vertical-align: top;\n",
       "    }\n",
       "\n",
       "    .dataframe thead th {\n",
       "        text-align: right;\n",
       "    }\n",
       "</style>\n",
       "<table border=\"1\" class=\"dataframe\">\n",
       "  <thead>\n",
       "    <tr style=\"text-align: right;\">\n",
       "      <th></th>\n",
       "      <th>Company</th>\n",
       "      <th>Cocoa Percent</th>\n",
       "      <th>Broad Bean Origin</th>\n",
       "      <th>Bean Type</th>\n",
       "      <th>Iron</th>\n",
       "      <th>Bar Size</th>\n",
       "      <th>Serving Size</th>\n",
       "      <th>Serving per bar</th>\n",
       "      <th>Roasted</th>\n",
       "      <th>Pure</th>\n",
       "      <th>Total Iron</th>\n",
       "      <th>Continent</th>\n",
       "    </tr>\n",
       "  </thead>\n",
       "  <tbody>\n",
       "    <tr>\n",
       "      <th>0</th>\n",
       "      <td>Valrhona</td>\n",
       "      <td>85</td>\n",
       "      <td>Africa</td>\n",
       "      <td>Forastero</td>\n",
       "      <td>15.0</td>\n",
       "      <td>2.46</td>\n",
       "      <td>35.0</td>\n",
       "      <td>2.0</td>\n",
       "      <td>Y</td>\n",
       "      <td>Y</td>\n",
       "      <td>30.0</td>\n",
       "      <td>1</td>\n",
       "    </tr>\n",
       "    <tr>\n",
       "      <th>1</th>\n",
       "      <td>Chocolove</td>\n",
       "      <td>70</td>\n",
       "      <td>African, Caribbean</td>\n",
       "      <td>Blend (forastero, trinitario)</td>\n",
       "      <td>30.0</td>\n",
       "      <td>3.20</td>\n",
       "      <td>30.0</td>\n",
       "      <td>3.0</td>\n",
       "      <td>Y</td>\n",
       "      <td>Y</td>\n",
       "      <td>90.0</td>\n",
       "      <td>7</td>\n",
       "    </tr>\n",
       "    <tr>\n",
       "      <th>2</th>\n",
       "      <td>Chocolove</td>\n",
       "      <td>65</td>\n",
       "      <td>African, Caribbean</td>\n",
       "      <td>Blend (forastero, trinitario)</td>\n",
       "      <td>25.0</td>\n",
       "      <td>3.20</td>\n",
       "      <td>30.0</td>\n",
       "      <td>3.0</td>\n",
       "      <td>Y</td>\n",
       "      <td>Y</td>\n",
       "      <td>75.0</td>\n",
       "      <td>7</td>\n",
       "    </tr>\n",
       "    <tr>\n",
       "      <th>3</th>\n",
       "      <td>Chocolove</td>\n",
       "      <td>88</td>\n",
       "      <td>African, Caribbean</td>\n",
       "      <td>Blend (forastero, trinitario)</td>\n",
       "      <td>30.0</td>\n",
       "      <td>3.20</td>\n",
       "      <td>30.0</td>\n",
       "      <td>3.0</td>\n",
       "      <td>Y</td>\n",
       "      <td>Y</td>\n",
       "      <td>90.0</td>\n",
       "      <td>7</td>\n",
       "    </tr>\n",
       "    <tr>\n",
       "      <th>4</th>\n",
       "      <td>Chocolove</td>\n",
       "      <td>55</td>\n",
       "      <td>African, Caribbean</td>\n",
       "      <td>Blend (forastero, trinitario)</td>\n",
       "      <td>20.0</td>\n",
       "      <td>3.20</td>\n",
       "      <td>30.0</td>\n",
       "      <td>3.0</td>\n",
       "      <td>Y</td>\n",
       "      <td>Y</td>\n",
       "      <td>60.0</td>\n",
       "      <td>7</td>\n",
       "    </tr>\n",
       "  </tbody>\n",
       "</table>\n",
       "</div>"
      ],
      "text/plain": [
       "     Company  Cocoa Percent   Broad Bean Origin  \\\n",
       "0   Valrhona             85              Africa   \n",
       "1  Chocolove             70  African, Caribbean   \n",
       "2  Chocolove             65  African, Caribbean   \n",
       "3  Chocolove             88  African, Caribbean   \n",
       "4  Chocolove             55  African, Caribbean   \n",
       "\n",
       "                       Bean Type  Iron  Bar Size  Serving Size  \\\n",
       "0                      Forastero  15.0      2.46          35.0   \n",
       "1  Blend (forastero, trinitario)  30.0      3.20          30.0   \n",
       "2  Blend (forastero, trinitario)  25.0      3.20          30.0   \n",
       "3  Blend (forastero, trinitario)  30.0      3.20          30.0   \n",
       "4  Blend (forastero, trinitario)  20.0      3.20          30.0   \n",
       "\n",
       "   Serving per bar Roasted Pure  Total Iron  Continent  \n",
       "0              2.0       Y    Y        30.0          1  \n",
       "1              3.0       Y    Y        90.0          7  \n",
       "2              3.0       Y    Y        75.0          7  \n",
       "3              3.0       Y    Y        90.0          7  \n",
       "4              3.0       Y    Y        60.0          7  "
      ]
     },
     "execution_count": 4,
     "metadata": {},
     "output_type": "execute_result"
    }
   ],
   "source": [
    "#show headers\n",
    "#iron and total iron = (DV%)\n",
    "#bar size = oz\n",
    "#serving size = g\n",
    "chocolate.head()"
   ]
  },
  {
   "cell_type": "code",
   "execution_count": 5,
   "metadata": {},
   "outputs": [
    {
     "data": {
      "text/html": [
       "<div>\n",
       "<style scoped>\n",
       "    .dataframe tbody tr th:only-of-type {\n",
       "        vertical-align: middle;\n",
       "    }\n",
       "\n",
       "    .dataframe tbody tr th {\n",
       "        vertical-align: top;\n",
       "    }\n",
       "\n",
       "    .dataframe thead th {\n",
       "        text-align: right;\n",
       "    }\n",
       "</style>\n",
       "<table border=\"1\" class=\"dataframe\">\n",
       "  <thead>\n",
       "    <tr style=\"text-align: right;\">\n",
       "      <th></th>\n",
       "      <th>Cocoa Percent</th>\n",
       "      <th>Iron</th>\n",
       "      <th>Bar Size</th>\n",
       "      <th>Serving Size</th>\n",
       "      <th>Serving per bar</th>\n",
       "      <th>Total Iron</th>\n",
       "      <th>Continent</th>\n",
       "    </tr>\n",
       "  </thead>\n",
       "  <tbody>\n",
       "    <tr>\n",
       "      <th>count</th>\n",
       "      <td>225.000000</td>\n",
       "      <td>225.000000</td>\n",
       "      <td>225.000000</td>\n",
       "      <td>225.000000</td>\n",
       "      <td>225.000000</td>\n",
       "      <td>225.000000</td>\n",
       "      <td>225.000000</td>\n",
       "    </tr>\n",
       "    <tr>\n",
       "      <th>mean</th>\n",
       "      <td>74.124444</td>\n",
       "      <td>16.435556</td>\n",
       "      <td>2.433067</td>\n",
       "      <td>33.272444</td>\n",
       "      <td>2.355556</td>\n",
       "      <td>30.237778</td>\n",
       "      <td>4.248889</td>\n",
       "    </tr>\n",
       "    <tr>\n",
       "      <th>std</th>\n",
       "      <td>11.038997</td>\n",
       "      <td>14.719244</td>\n",
       "      <td>0.670353</td>\n",
       "      <td>14.548547</td>\n",
       "      <td>1.410350</td>\n",
       "      <td>23.061214</td>\n",
       "      <td>2.167189</td>\n",
       "    </tr>\n",
       "    <tr>\n",
       "      <th>min</th>\n",
       "      <td>50.000000</td>\n",
       "      <td>1.000000</td>\n",
       "      <td>1.000000</td>\n",
       "      <td>2.500000</td>\n",
       "      <td>1.000000</td>\n",
       "      <td>4.000000</td>\n",
       "      <td>1.000000</td>\n",
       "    </tr>\n",
       "    <tr>\n",
       "      <th>25%</th>\n",
       "      <td>70.000000</td>\n",
       "      <td>6.000000</td>\n",
       "      <td>1.940000</td>\n",
       "      <td>25.000000</td>\n",
       "      <td>2.000000</td>\n",
       "      <td>12.000000</td>\n",
       "      <td>3.000000</td>\n",
       "    </tr>\n",
       "    <tr>\n",
       "      <th>50%</th>\n",
       "      <td>70.000000</td>\n",
       "      <td>11.000000</td>\n",
       "      <td>2.460000</td>\n",
       "      <td>35.000000</td>\n",
       "      <td>2.000000</td>\n",
       "      <td>20.000000</td>\n",
       "      <td>5.000000</td>\n",
       "    </tr>\n",
       "    <tr>\n",
       "      <th>75%</th>\n",
       "      <td>80.000000</td>\n",
       "      <td>23.000000</td>\n",
       "      <td>3.000000</td>\n",
       "      <td>42.000000</td>\n",
       "      <td>2.500000</td>\n",
       "      <td>45.000000</td>\n",
       "      <td>6.000000</td>\n",
       "    </tr>\n",
       "    <tr>\n",
       "      <th>max</th>\n",
       "      <td>100.000000</td>\n",
       "      <td>100.000000</td>\n",
       "      <td>4.400000</td>\n",
       "      <td>71.000000</td>\n",
       "      <td>9.000000</td>\n",
       "      <td>100.000000</td>\n",
       "      <td>8.000000</td>\n",
       "    </tr>\n",
       "  </tbody>\n",
       "</table>\n",
       "</div>"
      ],
      "text/plain": [
       "       Cocoa Percent        Iron    Bar Size  Serving Size  Serving per bar  \\\n",
       "count     225.000000  225.000000  225.000000    225.000000       225.000000   \n",
       "mean       74.124444   16.435556    2.433067     33.272444         2.355556   \n",
       "std        11.038997   14.719244    0.670353     14.548547         1.410350   \n",
       "min        50.000000    1.000000    1.000000      2.500000         1.000000   \n",
       "25%        70.000000    6.000000    1.940000     25.000000         2.000000   \n",
       "50%        70.000000   11.000000    2.460000     35.000000         2.000000   \n",
       "75%        80.000000   23.000000    3.000000     42.000000         2.500000   \n",
       "max       100.000000  100.000000    4.400000     71.000000         9.000000   \n",
       "\n",
       "       Total Iron   Continent  \n",
       "count  225.000000  225.000000  \n",
       "mean    30.237778    4.248889  \n",
       "std     23.061214    2.167189  \n",
       "min      4.000000    1.000000  \n",
       "25%     12.000000    3.000000  \n",
       "50%     20.000000    5.000000  \n",
       "75%     45.000000    6.000000  \n",
       "max    100.000000    8.000000  "
      ]
     },
     "execution_count": 5,
     "metadata": {},
     "output_type": "execute_result"
    }
   ],
   "source": [
    "chocolate.describe()"
   ]
  },
  {
   "cell_type": "code",
   "execution_count": 6,
   "metadata": {},
   "outputs": [
    {
     "data": {
      "text/plain": [
       "<matplotlib.axes._subplots.AxesSubplot at 0x1aaaf3fd630>"
      ]
     },
     "execution_count": 6,
     "metadata": {},
     "output_type": "execute_result"
    },
    {
     "data": {
      "image/png": "[encoded data removed]",
      "text/plain": [
       "<Figure size 432x288 with 1 Axes>"
      ]
     },
     "metadata": {
      "needs_background": "light"
     },
     "output_type": "display_data"
    }
   ],
   "source": [
    "#distribution of iron daily values per serving size\n",
    "sns.distplot(chocolate['Iron'])"
   ]
  },
  {
   "cell_type": "code",
   "execution_count": 7,
   "metadata": {},
   "outputs": [
    {
     "data": {
      "text/html": [
       "<div>\n",
       "<style scoped>\n",
       "    .dataframe tbody tr th:only-of-type {\n",
       "        vertical-align: middle;\n",
       "    }\n",
       "\n",
       "    .dataframe tbody tr th {\n",
       "        vertical-align: top;\n",
       "    }\n",
       "\n",
       "    .dataframe thead th {\n",
       "        text-align: right;\n",
       "    }\n",
       "</style>\n",
       "<table border=\"1\" class=\"dataframe\">\n",
       "  <thead>\n",
       "    <tr style=\"text-align: right;\">\n",
       "      <th></th>\n",
       "      <th>Company</th>\n",
       "      <th>Cocoa Percent</th>\n",
       "      <th>Broad Bean Origin</th>\n",
       "      <th>Bean Type</th>\n",
       "      <th>Iron</th>\n",
       "      <th>Bar Size</th>\n",
       "      <th>Serving Size</th>\n",
       "      <th>Serving per bar</th>\n",
       "      <th>Roasted</th>\n",
       "      <th>Pure</th>\n",
       "      <th>Total Iron</th>\n",
       "      <th>Continent</th>\n",
       "      <th>Source</th>\n",
       "    </tr>\n",
       "  </thead>\n",
       "  <tbody>\n",
       "    <tr>\n",
       "      <th>0</th>\n",
       "      <td>Valrhona</td>\n",
       "      <td>85</td>\n",
       "      <td>Africa</td>\n",
       "      <td>Forastero</td>\n",
       "      <td>15.0</td>\n",
       "      <td>2.46</td>\n",
       "      <td>35.0</td>\n",
       "      <td>2.0</td>\n",
       "      <td>Y</td>\n",
       "      <td>Y</td>\n",
       "      <td>30.0</td>\n",
       "      <td>1</td>\n",
       "      <td>Normal</td>\n",
       "    </tr>\n",
       "    <tr>\n",
       "      <th>1</th>\n",
       "      <td>Chocolove</td>\n",
       "      <td>70</td>\n",
       "      <td>African, Caribbean</td>\n",
       "      <td>Blend (forastero, trinitario)</td>\n",
       "      <td>30.0</td>\n",
       "      <td>3.20</td>\n",
       "      <td>30.0</td>\n",
       "      <td>3.0</td>\n",
       "      <td>Y</td>\n",
       "      <td>Y</td>\n",
       "      <td>90.0</td>\n",
       "      <td>7</td>\n",
       "      <td>High</td>\n",
       "    </tr>\n",
       "    <tr>\n",
       "      <th>2</th>\n",
       "      <td>Chocolove</td>\n",
       "      <td>65</td>\n",
       "      <td>African, Caribbean</td>\n",
       "      <td>Blend (forastero, trinitario)</td>\n",
       "      <td>25.0</td>\n",
       "      <td>3.20</td>\n",
       "      <td>30.0</td>\n",
       "      <td>3.0</td>\n",
       "      <td>Y</td>\n",
       "      <td>Y</td>\n",
       "      <td>75.0</td>\n",
       "      <td>7</td>\n",
       "      <td>High</td>\n",
       "    </tr>\n",
       "    <tr>\n",
       "      <th>3</th>\n",
       "      <td>Chocolove</td>\n",
       "      <td>88</td>\n",
       "      <td>African, Caribbean</td>\n",
       "      <td>Blend (forastero, trinitario)</td>\n",
       "      <td>30.0</td>\n",
       "      <td>3.20</td>\n",
       "      <td>30.0</td>\n",
       "      <td>3.0</td>\n",
       "      <td>Y</td>\n",
       "      <td>Y</td>\n",
       "      <td>90.0</td>\n",
       "      <td>7</td>\n",
       "      <td>High</td>\n",
       "    </tr>\n",
       "    <tr>\n",
       "      <th>4</th>\n",
       "      <td>Chocolove</td>\n",
       "      <td>55</td>\n",
       "      <td>African, Caribbean</td>\n",
       "      <td>Blend (forastero, trinitario)</td>\n",
       "      <td>20.0</td>\n",
       "      <td>3.20</td>\n",
       "      <td>30.0</td>\n",
       "      <td>3.0</td>\n",
       "      <td>Y</td>\n",
       "      <td>Y</td>\n",
       "      <td>60.0</td>\n",
       "      <td>7</td>\n",
       "      <td>High</td>\n",
       "    </tr>\n",
       "    <tr>\n",
       "      <th>5</th>\n",
       "      <td>Chocolove</td>\n",
       "      <td>77</td>\n",
       "      <td>African, Caribbean</td>\n",
       "      <td>Blend (forastero, trinitario)</td>\n",
       "      <td>25.0</td>\n",
       "      <td>3.20</td>\n",
       "      <td>30.0</td>\n",
       "      <td>3.0</td>\n",
       "      <td>Y</td>\n",
       "      <td>Y</td>\n",
       "      <td>75.0</td>\n",
       "      <td>7</td>\n",
       "      <td>High</td>\n",
       "    </tr>\n",
       "    <tr>\n",
       "      <th>6</th>\n",
       "      <td>Askinosie</td>\n",
       "      <td>72</td>\n",
       "      <td>Amazonia</td>\n",
       "      <td>Nacional Arriba</td>\n",
       "      <td>6.0</td>\n",
       "      <td>3.00</td>\n",
       "      <td>42.5</td>\n",
       "      <td>2.0</td>\n",
       "      <td>Y</td>\n",
       "      <td>Y</td>\n",
       "      <td>12.0</td>\n",
       "      <td>4</td>\n",
       "      <td>Normal</td>\n",
       "    </tr>\n",
       "    <tr>\n",
       "      <th>7</th>\n",
       "      <td>Dick Taylor</td>\n",
       "      <td>72</td>\n",
       "      <td>Belize</td>\n",
       "      <td>Trinitario</td>\n",
       "      <td>4.0</td>\n",
       "      <td>2.00</td>\n",
       "      <td>28.0</td>\n",
       "      <td>2.0</td>\n",
       "      <td>Y</td>\n",
       "      <td>Y</td>\n",
       "      <td>8.0</td>\n",
       "      <td>4</td>\n",
       "      <td>Normal</td>\n",
       "    </tr>\n",
       "    <tr>\n",
       "      <th>8</th>\n",
       "      <td>Double Spiral</td>\n",
       "      <td>75</td>\n",
       "      <td>Belize</td>\n",
       "      <td>Trinitario</td>\n",
       "      <td>19.0</td>\n",
       "      <td>1.00</td>\n",
       "      <td>28.0</td>\n",
       "      <td>1.0</td>\n",
       "      <td>Y</td>\n",
       "      <td>Y</td>\n",
       "      <td>19.0</td>\n",
       "      <td>4</td>\n",
       "      <td>Normal</td>\n",
       "    </tr>\n",
       "    <tr>\n",
       "      <th>9</th>\n",
       "      <td>Glennmade</td>\n",
       "      <td>70</td>\n",
       "      <td>Belize</td>\n",
       "      <td>Trinitario</td>\n",
       "      <td>35.0</td>\n",
       "      <td>1.83</td>\n",
       "      <td>52.0</td>\n",
       "      <td>1.0</td>\n",
       "      <td>Y</td>\n",
       "      <td>Y</td>\n",
       "      <td>35.0</td>\n",
       "      <td>4</td>\n",
       "      <td>High</td>\n",
       "    </tr>\n",
       "  </tbody>\n",
       "</table>\n",
       "</div>"
      ],
      "text/plain": [
       "         Company  Cocoa Percent   Broad Bean Origin  \\\n",
       "0       Valrhona             85              Africa   \n",
       "1      Chocolove             70  African, Caribbean   \n",
       "2      Chocolove             65  African, Caribbean   \n",
       "3      Chocolove             88  African, Caribbean   \n",
       "4      Chocolove             55  African, Caribbean   \n",
       "5      Chocolove             77  African, Caribbean   \n",
       "6      Askinosie             72            Amazonia   \n",
       "7    Dick Taylor             72              Belize   \n",
       "8  Double Spiral             75              Belize   \n",
       "9      Glennmade             70              Belize   \n",
       "\n",
       "                       Bean Type  Iron  Bar Size  Serving Size  \\\n",
       "0                      Forastero  15.0      2.46          35.0   \n",
       "1  Blend (forastero, trinitario)  30.0      3.20          30.0   \n",
       "2  Blend (forastero, trinitario)  25.0      3.20          30.0   \n",
       "3  Blend (forastero, trinitario)  30.0      3.20          30.0   \n",
       "4  Blend (forastero, trinitario)  20.0      3.20          30.0   \n",
       "5  Blend (forastero, trinitario)  25.0      3.20          30.0   \n",
       "6                Nacional Arriba   6.0      3.00          42.5   \n",
       "7                     Trinitario   4.0      2.00          28.0   \n",
       "8                     Trinitario  19.0      1.00          28.0   \n",
       "9                     Trinitario  35.0      1.83          52.0   \n",
       "\n",
       "   Serving per bar Roasted Pure  Total Iron  Continent  Source  \n",
       "0              2.0       Y    Y        30.0          1  Normal  \n",
       "1              3.0       Y    Y        90.0          7    High  \n",
       "2              3.0       Y    Y        75.0          7    High  \n",
       "3              3.0       Y    Y        90.0          7    High  \n",
       "4              3.0       Y    Y        60.0          7    High  \n",
       "5              3.0       Y    Y        75.0          7    High  \n",
       "6              2.0       Y    Y        12.0          4  Normal  \n",
       "7              2.0       Y    Y         8.0          4  Normal  \n",
       "8              1.0       Y    Y        19.0          4  Normal  \n",
       "9              1.0       Y    Y        35.0          4    High  "
      ]
     },
     "execution_count": 7,
     "metadata": {},
     "output_type": "execute_result"
    }
   ],
   "source": [
    "#Foods providing 20% or more of the DV are considered to be high sources of a nutrient\n",
    "#create bins to show normal vs high source of a nutrient\n",
    "bins = [0, 19, 100]\n",
    "\n",
    "#Create names for the groups\n",
    "group_names = ['Normal', 'High']\n",
    "\n",
    "#make new column \n",
    "chocolate['Source'] = pd.cut(chocolate['Iron'], bins, labels=group_names)\n",
    "chocolate.head(10)"
   ]
  },
  {
   "cell_type": "code",
   "execution_count": 8,
   "metadata": {},
   "outputs": [
    {
     "data": {
      "text/plain": [
       "<matplotlib.axes._subplots.AxesSubplot at 0x1aaaf3fd7b8>"
      ]
     },
     "execution_count": 8,
     "metadata": {},
     "output_type": "execute_result"
    },
    {
     "data": {
      "image/png": "[encoded data removed]",
      "text/plain": [
       "<Figure size 936x504 with 1 Axes>"
      ]
     },
     "metadata": {
      "needs_background": "light"
     },
     "output_type": "display_data"
    }
   ],
   "source": [
    "plt.figure(figsize=(13,7))\n",
    "sns.swarmplot(x='Source', y='Iron', data=chocolate)"
   ]
  },
  {
   "cell_type": "code",
   "execution_count": 9,
   "metadata": {
    "scrolled": false
   },
   "outputs": [
    {
     "data": {
      "text/plain": [
       "Bean Type\n",
       "Blend                                     70.000000\n",
       "Blend (criollo, trinitario)               28.833333\n",
       "Blend (criollo, trinitario, forastero)     4.000000\n",
       "Blend (forastero, criollo)                15.333333\n",
       "Blend (forastero, trinitario)             78.000000\n",
       "Criollo                                   29.367647\n",
       "Forastero                                 33.288462\n",
       "Hispaniola                                19.666667\n",
       "Nacional                                  27.500000\n",
       "Nacional Arriba                           35.410256\n",
       "Porcelana (criollo)                       27.500000\n",
       "Trinitario                                27.296875\n",
       "Trinitario, Nacional Arriba               16.000000\n",
       "Name: Total Iron, dtype: float64"
      ]
     },
     "execution_count": 9,
     "metadata": {},
     "output_type": "execute_result"
    }
   ],
   "source": [
    "#mean of total iron by bean type\n",
    "beans = chocolate.groupby('Bean Type')['Total Iron'].mean()\n",
    "beans"
   ]
  },
  {
   "cell_type": "code",
   "execution_count": 10,
   "metadata": {},
   "outputs": [
    {
     "data": {
      "text/plain": [
       "<matplotlib.axes._subplots.AxesSubplot at 0x1aaaf7f12b0>"
      ]
     },
     "execution_count": 10,
     "metadata": {},
     "output_type": "execute_result"
    },
    {
     "data": {
      "image/png": "[encoded data removed]",
      "text/plain": [
       "<Figure size 432x288 with 1 Axes>"
      ]
     },
     "metadata": {
      "needs_background": "light"
     },
     "output_type": "display_data"
    }
   ],
   "source": [
    "#visualization of mean of total iron by bean type\n",
    "beans.plot.bar()"
   ]
  },
  {
   "cell_type": "code",
   "execution_count": 11,
   "metadata": {},
   "outputs": [
    {
     "data": {
      "text/plain": [
       "Cocoa Percent\n",
       "50     42.500000\n",
       "53     20.000000\n",
       "54     11.000000\n",
       "55     28.666667\n",
       "58     20.000000\n",
       "60     26.576923\n",
       "62     30.000000\n",
       "63     34.000000\n",
       "64      8.500000\n",
       "65     38.111111\n",
       "66     15.333333\n",
       "67     27.500000\n",
       "68     22.000000\n",
       "70     25.897059\n",
       "71     44.000000\n",
       "72     25.789474\n",
       "74      6.000000\n",
       "75     20.230769\n",
       "76     24.400000\n",
       "77     45.250000\n",
       "78     15.000000\n",
       "79      8.000000\n",
       "80     29.777778\n",
       "81     42.500000\n",
       "82     10.000000\n",
       "83     45.000000\n",
       "85     37.568182\n",
       "86     48.200000\n",
       "87     32.000000\n",
       "88     54.200000\n",
       "90     55.833333\n",
       "92     68.666667\n",
       "100    39.413333\n",
       "Name: Total Iron, dtype: float64"
      ]
     },
     "execution_count": 11,
     "metadata": {},
     "output_type": "execute_result"
    }
   ],
   "source": [
    "#mean of total iron by bean type\n",
    "cocoa = chocolate.groupby('Cocoa Percent')['Total Iron'].mean()\n",
    "cocoa"
   ]
  },
  {
   "cell_type": "code",
   "execution_count": 12,
   "metadata": {},
   "outputs": [
    {
     "data": {
      "text/plain": [
       "<matplotlib.axes._subplots.AxesSubplot at 0x1aaaf860208>"
      ]
     },
     "execution_count": 12,
     "metadata": {},
     "output_type": "execute_result"
    },
    {
     "data": {
      "image/png": "[encoded data removed]",
      "text/plain": [
       "<Figure size 432x288 with 1 Axes>"
      ]
     },
     "metadata": {
      "needs_background": "light"
     },
     "output_type": "display_data"
    }
   ],
   "source": [
    "cocoa.plot.bar()"
   ]
  },
  {
   "cell_type": "code",
   "execution_count": 13,
   "metadata": {},
   "outputs": [
    {
     "data": {
      "text/plain": [
       "Ecuador                                 39\n",
       "Dominican Republic                      36\n",
       "Peru                                    26\n",
       "Ghana                                   13\n",
       "Madagascar                              13\n",
       "Tanzania                                11\n",
       "Venezuela                               10\n",
       "Columbia                                 8\n",
       "Unknown                                  6\n",
       "West Africa                              5\n",
       "Congo, Peru                              5\n",
       "African, Caribbean                       5\n",
       "Bolivia                                  5\n",
       "Mexico                                   4\n",
       "Costa Rica                               4\n",
       "Brazil                                   4\n",
       "Haiti                                    3\n",
       "Belize                                   3\n",
       "Nicaragua                                3\n",
       "Vietnam                                  2\n",
       "Uganda                                   2\n",
       "Guatemala                                2\n",
       "South America                            2\n",
       "Cameroon                                 1\n",
       "Tanzania, Ecuador                        1\n",
       "Multi-country                            1\n",
       "India                                    1\n",
       "Togo                                     1\n",
       "Sierra Leone                             1\n",
       "Philippines                              1\n",
       "Fiji                                     1\n",
       "Congo                                    1\n",
       "Ghana, Peru, Ecuador, and Madagascar     1\n",
       "Africa                                   1\n",
       "Dominican Republic, Ecuador              1\n",
       "Panama                                   1\n",
       "Amazonia                                 1\n",
       "Name: Broad Bean Origin, dtype: int64"
      ]
     },
     "execution_count": 13,
     "metadata": {},
     "output_type": "execute_result"
    }
   ],
   "source": [
    "chocolate['Broad Bean Origin'].value_counts()"
   ]
  },
  {
   "cell_type": "code",
   "execution_count": 14,
   "metadata": {},
   "outputs": [
    {
     "data": {
      "text/html": [
       "<div>\n",
       "<style scoped>\n",
       "    .dataframe tbody tr th:only-of-type {\n",
       "        vertical-align: middle;\n",
       "    }\n",
       "\n",
       "    .dataframe tbody tr th {\n",
       "        vertical-align: top;\n",
       "    }\n",
       "\n",
       "    .dataframe thead th {\n",
       "        text-align: right;\n",
       "    }\n",
       "</style>\n",
       "<table border=\"1\" class=\"dataframe\">\n",
       "  <thead>\n",
       "    <tr style=\"text-align: right;\">\n",
       "      <th></th>\n",
       "      <th>Company</th>\n",
       "      <th>Cocoa Percent</th>\n",
       "      <th>Broad Bean Origin</th>\n",
       "      <th>Bean Type</th>\n",
       "      <th>Iron</th>\n",
       "      <th>Bar Size</th>\n",
       "      <th>Serving Size</th>\n",
       "      <th>Serving per bar</th>\n",
       "      <th>Roasted</th>\n",
       "      <th>Pure</th>\n",
       "      <th>Total Iron</th>\n",
       "      <th>Continent</th>\n",
       "      <th>Source</th>\n",
       "      <th>Region</th>\n",
       "    </tr>\n",
       "  </thead>\n",
       "  <tbody>\n",
       "    <tr>\n",
       "      <th>0</th>\n",
       "      <td>Valrhona</td>\n",
       "      <td>85</td>\n",
       "      <td>Africa</td>\n",
       "      <td>Forastero</td>\n",
       "      <td>15.0</td>\n",
       "      <td>2.46</td>\n",
       "      <td>35.0</td>\n",
       "      <td>2.0</td>\n",
       "      <td>Y</td>\n",
       "      <td>Y</td>\n",
       "      <td>30.0</td>\n",
       "      <td>1</td>\n",
       "      <td>Normal</td>\n",
       "      <td>Africa</td>\n",
       "    </tr>\n",
       "    <tr>\n",
       "      <th>1</th>\n",
       "      <td>Chocolove</td>\n",
       "      <td>70</td>\n",
       "      <td>African, Caribbean</td>\n",
       "      <td>Blend (forastero, trinitario)</td>\n",
       "      <td>30.0</td>\n",
       "      <td>3.20</td>\n",
       "      <td>30.0</td>\n",
       "      <td>3.0</td>\n",
       "      <td>Y</td>\n",
       "      <td>Y</td>\n",
       "      <td>90.0</td>\n",
       "      <td>7</td>\n",
       "      <td>High</td>\n",
       "      <td>Multi-country</td>\n",
       "    </tr>\n",
       "    <tr>\n",
       "      <th>2</th>\n",
       "      <td>Chocolove</td>\n",
       "      <td>65</td>\n",
       "      <td>African, Caribbean</td>\n",
       "      <td>Blend (forastero, trinitario)</td>\n",
       "      <td>25.0</td>\n",
       "      <td>3.20</td>\n",
       "      <td>30.0</td>\n",
       "      <td>3.0</td>\n",
       "      <td>Y</td>\n",
       "      <td>Y</td>\n",
       "      <td>75.0</td>\n",
       "      <td>7</td>\n",
       "      <td>High</td>\n",
       "      <td>Multi-country</td>\n",
       "    </tr>\n",
       "    <tr>\n",
       "      <th>3</th>\n",
       "      <td>Chocolove</td>\n",
       "      <td>88</td>\n",
       "      <td>African, Caribbean</td>\n",
       "      <td>Blend (forastero, trinitario)</td>\n",
       "      <td>30.0</td>\n",
       "      <td>3.20</td>\n",
       "      <td>30.0</td>\n",
       "      <td>3.0</td>\n",
       "      <td>Y</td>\n",
       "      <td>Y</td>\n",
       "      <td>90.0</td>\n",
       "      <td>7</td>\n",
       "      <td>High</td>\n",
       "      <td>Multi-country</td>\n",
       "    </tr>\n",
       "    <tr>\n",
       "      <th>4</th>\n",
       "      <td>Chocolove</td>\n",
       "      <td>55</td>\n",
       "      <td>African, Caribbean</td>\n",
       "      <td>Blend (forastero, trinitario)</td>\n",
       "      <td>20.0</td>\n",
       "      <td>3.20</td>\n",
       "      <td>30.0</td>\n",
       "      <td>3.0</td>\n",
       "      <td>Y</td>\n",
       "      <td>Y</td>\n",
       "      <td>60.0</td>\n",
       "      <td>7</td>\n",
       "      <td>High</td>\n",
       "      <td>Multi-country</td>\n",
       "    </tr>\n",
       "  </tbody>\n",
       "</table>\n",
       "</div>"
      ],
      "text/plain": [
       "     Company  Cocoa Percent   Broad Bean Origin  \\\n",
       "0   Valrhona             85              Africa   \n",
       "1  Chocolove             70  African, Caribbean   \n",
       "2  Chocolove             65  African, Caribbean   \n",
       "3  Chocolove             88  African, Caribbean   \n",
       "4  Chocolove             55  African, Caribbean   \n",
       "\n",
       "                       Bean Type  Iron  Bar Size  Serving Size  \\\n",
       "0                      Forastero  15.0      2.46          35.0   \n",
       "1  Blend (forastero, trinitario)  30.0      3.20          30.0   \n",
       "2  Blend (forastero, trinitario)  25.0      3.20          30.0   \n",
       "3  Blend (forastero, trinitario)  30.0      3.20          30.0   \n",
       "4  Blend (forastero, trinitario)  20.0      3.20          30.0   \n",
       "\n",
       "   Serving per bar Roasted Pure  Total Iron  Continent  Source         Region  \n",
       "0              2.0       Y    Y        30.0          1  Normal         Africa  \n",
       "1              3.0       Y    Y        90.0          7    High  Multi-country  \n",
       "2              3.0       Y    Y        75.0          7    High  Multi-country  \n",
       "3              3.0       Y    Y        90.0          7    High  Multi-country  \n",
       "4              3.0       Y    Y        60.0          7    High  Multi-country  "
      ]
     },
     "execution_count": 14,
     "metadata": {},
     "output_type": "execute_result"
    }
   ],
   "source": [
    "#create bins for bean origin\n",
    "bins2 = [0, 1, 2, 3, 4, 5, 6, 7, 8]\n",
    "\n",
    "# Create names for the groups\n",
    "group_names2 = ['Africa', 'Asia', 'Caribbean', 'Central America', 'North America', 'South America', \n",
    "               'Multi-country', 'Unknown']\n",
    "\n",
    "#make new column to show the different regions\n",
    "chocolate['Region'] = pd.cut(chocolate['Continent'], bins2, labels=group_names2)\n",
    "chocolate.head(5)"
   ]
  },
  {
   "cell_type": "code",
   "execution_count": 15,
   "metadata": {},
   "outputs": [
    {
     "data": {
      "text/plain": [
       "Region           Bean Type                             \n",
       "Africa           Forastero                                 24\n",
       "                 Trinitario                                23\n",
       "                 Blend (criollo, trinitario)                2\n",
       "Asia             Trinitario                                 3\n",
       "                 Blend (forastero, criollo)                 1\n",
       "                 Forastero                                  1\n",
       "Caribbean        Trinitario                                35\n",
       "                 Hispaniola                                 3\n",
       "                 Criollo                                    1\n",
       "Central America  Trinitario                                 8\n",
       "                 Blend (criollo, trinitario)                1\n",
       "                 Nacional Arriba                            1\n",
       "North America    Trinitario                                 8\n",
       "                 Blend (forastero, criollo)                 5\n",
       "South America    Nacional Arriba                           38\n",
       "                 Criollo                                   29\n",
       "                 Trinitario                                16\n",
       "                 Blend (criollo, trinitario)                3\n",
       "                 Blend (criollo, trinitario, forastero)     3\n",
       "                 Nacional                                   2\n",
       "                 Porcelana (criollo)                        2\n",
       "                 Forastero                                  1\n",
       "Multi-country    Blend (forastero, trinitario)              5\n",
       "                 Trinitario, Nacional Arriba                2\n",
       "                 Blend                                      1\n",
       "                 Trinitario                                 1\n",
       "Unknown          Criollo                                    4\n",
       "                 Trinitario                                 2\n",
       "Name: Bean Type, dtype: int64"
      ]
     },
     "execution_count": 15,
     "metadata": {},
     "output_type": "execute_result"
    }
   ],
   "source": [
    "#Criollo beans have flavours of toffee, nuts, citrus and red fruits\n",
    "#Forastero beans have a strong, bitter, acidic flavour profile\n",
    "#Trinitario beans have a spicy, earthy and fruity flavour profile\n",
    "continent = chocolate.groupby('Region')['Bean Type'].value_counts()\n",
    "continent"
   ]
  },
  {
   "cell_type": "code",
   "execution_count": 16,
   "metadata": {
    "scrolled": true
   },
   "outputs": [
    {
     "data": {
      "text/html": [
       "<div>\n",
       "<style scoped>\n",
       "    .dataframe tbody tr th:only-of-type {\n",
       "        vertical-align: middle;\n",
       "    }\n",
       "\n",
       "    .dataframe tbody tr th {\n",
       "        vertical-align: top;\n",
       "    }\n",
       "\n",
       "    .dataframe thead th {\n",
       "        text-align: right;\n",
       "    }\n",
       "</style>\n",
       "<table border=\"1\" class=\"dataframe\">\n",
       "  <thead>\n",
       "    <tr style=\"text-align: right;\">\n",
       "      <th></th>\n",
       "      <th></th>\n",
       "      <th>Cocoa Percent</th>\n",
       "      <th>Iron</th>\n",
       "      <th>Bar Size</th>\n",
       "      <th>Serving Size</th>\n",
       "      <th>Serving per bar</th>\n",
       "      <th>Total Iron</th>\n",
       "      <th>Continent</th>\n",
       "    </tr>\n",
       "    <tr>\n",
       "      <th>Pure</th>\n",
       "      <th>Roasted</th>\n",
       "      <th></th>\n",
       "      <th></th>\n",
       "      <th></th>\n",
       "      <th></th>\n",
       "      <th></th>\n",
       "      <th></th>\n",
       "      <th></th>\n",
       "    </tr>\n",
       "  </thead>\n",
       "  <tbody>\n",
       "    <tr>\n",
       "      <th rowspan=\"2\" valign=\"top\">N</th>\n",
       "      <th>N</th>\n",
       "      <td>71.222222</td>\n",
       "      <td>4.000000</td>\n",
       "      <td>1.800000</td>\n",
       "      <td>15.000000</td>\n",
       "      <td>2.000000</td>\n",
       "      <td>8.000000</td>\n",
       "      <td>4.111111</td>\n",
       "    </tr>\n",
       "    <tr>\n",
       "      <th>Y</th>\n",
       "      <td>68.196078</td>\n",
       "      <td>14.647059</td>\n",
       "      <td>2.400784</td>\n",
       "      <td>36.225490</td>\n",
       "      <td>2.107843</td>\n",
       "      <td>25.009804</td>\n",
       "      <td>4.176471</td>\n",
       "    </tr>\n",
       "    <tr>\n",
       "      <th rowspan=\"2\" valign=\"top\">Y</th>\n",
       "      <th>N</th>\n",
       "      <td>88.500000</td>\n",
       "      <td>11.500000</td>\n",
       "      <td>1.750000</td>\n",
       "      <td>12.500000</td>\n",
       "      <td>4.000000</td>\n",
       "      <td>46.000000</td>\n",
       "      <td>8.000000</td>\n",
       "    </tr>\n",
       "    <tr>\n",
       "      <th>Y</th>\n",
       "      <td>75.807453</td>\n",
       "      <td>17.819876</td>\n",
       "      <td>2.495652</td>\n",
       "      <td>33.874534</td>\n",
       "      <td>2.413043</td>\n",
       "      <td>32.745342</td>\n",
       "      <td>4.186335</td>\n",
       "    </tr>\n",
       "  </tbody>\n",
       "</table>\n",
       "</div>"
      ],
      "text/plain": [
       "              Cocoa Percent       Iron  Bar Size  Serving Size  \\\n",
       "Pure Roasted                                                     \n",
       "N    N            71.222222   4.000000  1.800000     15.000000   \n",
       "     Y            68.196078  14.647059  2.400784     36.225490   \n",
       "Y    N            88.500000  11.500000  1.750000     12.500000   \n",
       "     Y            75.807453  17.819876  2.495652     33.874534   \n",
       "\n",
       "              Serving per bar  Total Iron  Continent  \n",
       "Pure Roasted                                          \n",
       "N    N               2.000000    8.000000   4.111111  \n",
       "     Y               2.107843   25.009804   4.176471  \n",
       "Y    N               4.000000   46.000000   8.000000  \n",
       "     Y               2.413043   32.745342   4.186335  "
      ]
     },
     "execution_count": 16,
     "metadata": {},
     "output_type": "execute_result"
    }
   ],
   "source": [
    "pure_roast = chocolate.groupby(['Pure', 'Roasted']).mean()\n",
    "pure_roast"
   ]
  },
  {
   "cell_type": "code",
   "execution_count": 17,
   "metadata": {},
   "outputs": [
    {
     "data": {
      "text/plain": [
       "<matplotlib.legend.Legend at 0x1aaaf942780>"
      ]
     },
     "execution_count": 17,
     "metadata": {},
     "output_type": "execute_result"
    },
    {
     "data": {
      "image/png": "[encoded data removed]",
      "text/plain": [
       "<Figure size 432x288 with 1 Axes>"
      ]
     },
     "metadata": {
      "needs_background": "light"
     },
     "output_type": "display_data"
    }
   ],
   "source": [
    "#visualization of pure vs roasted chocolate\n",
    "pure_roast.plot.bar()\n",
    "plt.legend(bbox_to_anchor=(1,1), loc=2)"
   ]
  },
  {
   "cell_type": "code",
   "execution_count": 18,
   "metadata": {},
   "outputs": [
    {
     "data": {
      "text/plain": [
       "<matplotlib.axes._subplots.AxesSubplot at 0x1aaafc10e10>"
      ]
     },
     "execution_count": 18,
     "metadata": {},
     "output_type": "execute_result"
    },
    {
     "data": {
      "image/png": "[encoded data removed]",
      "text/plain": [
       "<Figure size 432x288 with 2 Axes>"
      ]
     },
     "metadata": {
      "needs_background": "light"
     },
     "output_type": "display_data"
    }
   ],
   "source": [
    "sns.heatmap(chocolate.corr(), annot=True)"
   ]
  },
  {
   "cell_type": "code",
   "execution_count": 19,
   "metadata": {},
   "outputs": [
    {
     "data": {
      "text/plain": [
       "['Company',\n",
       " 'Cocoa Percent',\n",
       " 'Broad Bean Origin',\n",
       " 'Bean Type',\n",
       " 'Iron',\n",
       " 'Bar Size',\n",
       " 'Serving Size',\n",
       " 'Serving per bar',\n",
       " 'Roasted',\n",
       " 'Pure',\n",
       " 'Total Iron',\n",
       " 'Continent',\n",
       " 'Source',\n",
       " 'Region']"
      ]
     },
     "execution_count": 19,
     "metadata": {},
     "output_type": "execute_result"
    }
   ],
   "source": [
    "list(chocolate)"
   ]
  },
  {
   "cell_type": "code",
   "execution_count": 20,
   "metadata": {},
   "outputs": [],
   "source": [
    "iron = chocolate.drop(['Company', 'Broad Bean Origin', 'Bean Type', \n",
    "                       'Roasted','Pure','Continent', 'Source', 'Region'], axis=1)"
   ]
  },
  {
   "cell_type": "code",
   "execution_count": 21,
   "metadata": {},
   "outputs": [
    {
     "data": {
      "text/html": [
       "<div>\n",
       "<style scoped>\n",
       "    .dataframe tbody tr th:only-of-type {\n",
       "        vertical-align: middle;\n",
       "    }\n",
       "\n",
       "    .dataframe tbody tr th {\n",
       "        vertical-align: top;\n",
       "    }\n",
       "\n",
       "    .dataframe thead th {\n",
       "        text-align: right;\n",
       "    }\n",
       "</style>\n",
       "<table border=\"1\" class=\"dataframe\">\n",
       "  <thead>\n",
       "    <tr style=\"text-align: right;\">\n",
       "      <th></th>\n",
       "      <th>cocoapercent</th>\n",
       "      <th>iron</th>\n",
       "      <th>barsize</th>\n",
       "      <th>servingsize</th>\n",
       "      <th>barservings</th>\n",
       "      <th>totaliron</th>\n",
       "    </tr>\n",
       "  </thead>\n",
       "  <tbody>\n",
       "    <tr>\n",
       "      <th>0</th>\n",
       "      <td>85</td>\n",
       "      <td>15.0</td>\n",
       "      <td>2.46</td>\n",
       "      <td>35.0</td>\n",
       "      <td>2.0</td>\n",
       "      <td>30.0</td>\n",
       "    </tr>\n",
       "    <tr>\n",
       "      <th>1</th>\n",
       "      <td>70</td>\n",
       "      <td>30.0</td>\n",
       "      <td>3.20</td>\n",
       "      <td>30.0</td>\n",
       "      <td>3.0</td>\n",
       "      <td>90.0</td>\n",
       "    </tr>\n",
       "    <tr>\n",
       "      <th>2</th>\n",
       "      <td>65</td>\n",
       "      <td>25.0</td>\n",
       "      <td>3.20</td>\n",
       "      <td>30.0</td>\n",
       "      <td>3.0</td>\n",
       "      <td>75.0</td>\n",
       "    </tr>\n",
       "    <tr>\n",
       "      <th>3</th>\n",
       "      <td>88</td>\n",
       "      <td>30.0</td>\n",
       "      <td>3.20</td>\n",
       "      <td>30.0</td>\n",
       "      <td>3.0</td>\n",
       "      <td>90.0</td>\n",
       "    </tr>\n",
       "    <tr>\n",
       "      <th>4</th>\n",
       "      <td>55</td>\n",
       "      <td>20.0</td>\n",
       "      <td>3.20</td>\n",
       "      <td>30.0</td>\n",
       "      <td>3.0</td>\n",
       "      <td>60.0</td>\n",
       "    </tr>\n",
       "  </tbody>\n",
       "</table>\n",
       "</div>"
      ],
      "text/plain": [
       "   cocoapercent  iron  barsize  servingsize  barservings  totaliron\n",
       "0            85  15.0     2.46         35.0          2.0       30.0\n",
       "1            70  30.0     3.20         30.0          3.0       90.0\n",
       "2            65  25.0     3.20         30.0          3.0       75.0\n",
       "3            88  30.0     3.20         30.0          3.0       90.0\n",
       "4            55  20.0     3.20         30.0          3.0       60.0"
      ]
     },
     "execution_count": 21,
     "metadata": {},
     "output_type": "execute_result"
    }
   ],
   "source": [
    "columns = ['cocoapercent', 'iron', 'barsize', 'servingsize', 'barservings', 'totaliron']\n",
    "\n",
    "#change column names\n",
    "iron.columns = columns\n",
    "iron.head()"
   ]
  },
  {
   "cell_type": "code",
   "execution_count": 22,
   "metadata": {},
   "outputs": [
    {
     "data": {
      "text/plain": [
       "<seaborn.axisgrid.FacetGrid at 0x1aaaf76e240>"
      ]
     },
     "execution_count": 22,
     "metadata": {},
     "output_type": "execute_result"
    },
    {
     "data": {
      "image/png": "[encoded data removed]",
      "text/plain": [
       "<Figure size 360x360 with 1 Axes>"
      ]
     },
     "metadata": {
      "needs_background": "light"
     },
     "output_type": "display_data"
    }
   ],
   "source": [
    "sns.lmplot(x='cocoapercent', y='totaliron', data=iron)"
   ]
  },
  {
   "cell_type": "code",
   "execution_count": 23,
   "metadata": {},
   "outputs": [
    {
     "data": {
      "text/plain": [
       "LinearRegression(copy_X=True, fit_intercept=True, n_jobs=None,\n",
       "         normalize=False)"
      ]
     },
     "execution_count": 23,
     "metadata": {},
     "output_type": "execute_result"
    }
   ],
   "source": [
    "reg = linear_model.LinearRegression()\n",
    "reg.fit(iron[['cocoapercent']],iron.totaliron)"
   ]
  },
  {
   "cell_type": "code",
   "execution_count": 24,
   "metadata": {
    "scrolled": true
   },
   "outputs": [
    {
     "data": {
      "text/plain": [
       "array([30.68592835])"
      ]
     },
     "execution_count": 24,
     "metadata": {},
     "output_type": "execute_result"
    }
   ],
   "source": [
    "y_pred = reg.predict([[75]])\n",
    "y_pred"
   ]
  },
  {
   "cell_type": "code",
   "execution_count": 25,
   "metadata": {},
   "outputs": [
    {
     "data": {
      "text/plain": [
       "array([0.5118471])"
      ]
     },
     "execution_count": 25,
     "metadata": {},
     "output_type": "execute_result"
    }
   ],
   "source": [
    "reg.coef_"
   ]
  },
  {
   "cell_type": "code",
   "execution_count": 26,
   "metadata": {},
   "outputs": [
    {
     "data": {
      "text/plain": [
       "-7.702603865108699"
      ]
     },
     "execution_count": 26,
     "metadata": {},
     "output_type": "execute_result"
    }
   ],
   "source": [
    "reg.intercept_"
   ]
  },
  {
   "cell_type": "code",
   "execution_count": 27,
   "metadata": {},
   "outputs": [
    {
     "data": {
      "text/plain": [
       "30.685928634891297"
      ]
     },
     "execution_count": 27,
     "metadata": {},
     "output_type": "execute_result"
    }
   ],
   "source": [
    "#y=mx+b\n",
    "y= 0.5118471*75-7.702603865108699\n",
    "y"
   ]
  },
  {
   "cell_type": "code",
   "execution_count": 28,
   "metadata": {},
   "outputs": [
    {
     "data": {
      "text/plain": [
       "(array([ 0,  1,  2,  3,  4,  5,  6,  7,  8,  9, 10, 11, 12, 13, 14, 15, 16,\n",
       "        17, 18, 19, 20]), <a list of 21 Text xticklabel objects>)"
      ]
     },
     "execution_count": 28,
     "metadata": {},
     "output_type": "execute_result"
    },
    {
     "data": {
      "image/png": "[encoded data removed]",
      "text/plain": [
       "<Figure size 432x288 with 1 Axes>"
      ]
     },
     "metadata": {
      "needs_background": "light"
     },
     "output_type": "display_data"
    }
   ],
   "source": [
    "sns.countplot(x='Iron', data=chocolate[chocolate['Iron'] >= 20])\n",
    "\n",
    "plt.xticks(rotation=-90)"
   ]
  },
  {
   "cell_type": "code",
   "execution_count": 43,
   "metadata": {
    "scrolled": false
   },
   "outputs": [
    {
     "data": {
      "text/html": [
       "<div>\n",
       "<style scoped>\n",
       "    .dataframe tbody tr th:only-of-type {\n",
       "        vertical-align: middle;\n",
       "    }\n",
       "\n",
       "    .dataframe tbody tr th {\n",
       "        vertical-align: top;\n",
       "    }\n",
       "\n",
       "    .dataframe thead th {\n",
       "        text-align: right;\n",
       "    }\n",
       "</style>\n",
       "<table border=\"1\" class=\"dataframe\">\n",
       "  <thead>\n",
       "    <tr style=\"text-align: right;\">\n",
       "      <th></th>\n",
       "      <th>Company</th>\n",
       "      <th>Cocoa Percent</th>\n",
       "      <th>Broad Bean Origin</th>\n",
       "      <th>Bean Type</th>\n",
       "      <th>Iron</th>\n",
       "      <th>Bar Size</th>\n",
       "      <th>Serving Size</th>\n",
       "      <th>Serving per bar</th>\n",
       "      <th>Roasted</th>\n",
       "      <th>Pure</th>\n",
       "      <th>Total Iron</th>\n",
       "      <th>Continent</th>\n",
       "      <th>Source</th>\n",
       "      <th>Region</th>\n",
       "    </tr>\n",
       "  </thead>\n",
       "  <tbody>\n",
       "    <tr>\n",
       "      <th>1</th>\n",
       "      <td>Chocolove</td>\n",
       "      <td>70</td>\n",
       "      <td>African, Caribbean</td>\n",
       "      <td>Blend (forastero, trinitario)</td>\n",
       "      <td>30.0</td>\n",
       "      <td>3.2</td>\n",
       "      <td>30.0</td>\n",
       "      <td>3.0</td>\n",
       "      <td>Y</td>\n",
       "      <td>Y</td>\n",
       "      <td>90.0</td>\n",
       "      <td>7</td>\n",
       "      <td>High</td>\n",
       "      <td>Multi-country</td>\n",
       "    </tr>\n",
       "    <tr>\n",
       "      <th>2</th>\n",
       "      <td>Chocolove</td>\n",
       "      <td>65</td>\n",
       "      <td>African, Caribbean</td>\n",
       "      <td>Blend (forastero, trinitario)</td>\n",
       "      <td>25.0</td>\n",
       "      <td>3.2</td>\n",
       "      <td>30.0</td>\n",
       "      <td>3.0</td>\n",
       "      <td>Y</td>\n",
       "      <td>Y</td>\n",
       "      <td>75.0</td>\n",
       "      <td>7</td>\n",
       "      <td>High</td>\n",
       "      <td>Multi-country</td>\n",
       "    </tr>\n",
       "    <tr>\n",
       "      <th>3</th>\n",
       "      <td>Chocolove</td>\n",
       "      <td>88</td>\n",
       "      <td>African, Caribbean</td>\n",
       "      <td>Blend (forastero, trinitario)</td>\n",
       "      <td>30.0</td>\n",
       "      <td>3.2</td>\n",
       "      <td>30.0</td>\n",
       "      <td>3.0</td>\n",
       "      <td>Y</td>\n",
       "      <td>Y</td>\n",
       "      <td>90.0</td>\n",
       "      <td>7</td>\n",
       "      <td>High</td>\n",
       "      <td>Multi-country</td>\n",
       "    </tr>\n",
       "    <tr>\n",
       "      <th>4</th>\n",
       "      <td>Chocolove</td>\n",
       "      <td>55</td>\n",
       "      <td>African, Caribbean</td>\n",
       "      <td>Blend (forastero, trinitario)</td>\n",
       "      <td>20.0</td>\n",
       "      <td>3.2</td>\n",
       "      <td>30.0</td>\n",
       "      <td>3.0</td>\n",
       "      <td>Y</td>\n",
       "      <td>Y</td>\n",
       "      <td>60.0</td>\n",
       "      <td>7</td>\n",
       "      <td>High</td>\n",
       "      <td>Multi-country</td>\n",
       "    </tr>\n",
       "    <tr>\n",
       "      <th>5</th>\n",
       "      <td>Chocolove</td>\n",
       "      <td>77</td>\n",
       "      <td>African, Caribbean</td>\n",
       "      <td>Blend (forastero, trinitario)</td>\n",
       "      <td>25.0</td>\n",
       "      <td>3.2</td>\n",
       "      <td>30.0</td>\n",
       "      <td>3.0</td>\n",
       "      <td>Y</td>\n",
       "      <td>Y</td>\n",
       "      <td>75.0</td>\n",
       "      <td>7</td>\n",
       "      <td>High</td>\n",
       "      <td>Multi-country</td>\n",
       "    </tr>\n",
       "  </tbody>\n",
       "</table>\n",
       "</div>"
      ],
      "text/plain": [
       "     Company  Cocoa Percent   Broad Bean Origin  \\\n",
       "1  Chocolove             70  African, Caribbean   \n",
       "2  Chocolove             65  African, Caribbean   \n",
       "3  Chocolove             88  African, Caribbean   \n",
       "4  Chocolove             55  African, Caribbean   \n",
       "5  Chocolove             77  African, Caribbean   \n",
       "\n",
       "                       Bean Type  Iron  Bar Size  Serving Size  \\\n",
       "1  Blend (forastero, trinitario)  30.0       3.2          30.0   \n",
       "2  Blend (forastero, trinitario)  25.0       3.2          30.0   \n",
       "3  Blend (forastero, trinitario)  30.0       3.2          30.0   \n",
       "4  Blend (forastero, trinitario)  20.0       3.2          30.0   \n",
       "5  Blend (forastero, trinitario)  25.0       3.2          30.0   \n",
       "\n",
       "   Serving per bar Roasted Pure  Total Iron  Continent Source         Region  \n",
       "1              3.0       Y    Y        90.0          7   High  Multi-country  \n",
       "2              3.0       Y    Y        75.0          7   High  Multi-country  \n",
       "3              3.0       Y    Y        90.0          7   High  Multi-country  \n",
       "4              3.0       Y    Y        60.0          7   High  Multi-country  \n",
       "5              3.0       Y    Y        75.0          7   High  Multi-country  "
      ]
     },
     "execution_count": 43,
     "metadata": {},
     "output_type": "execute_result"
    }
   ],
   "source": [
    "#searching for best chocolate brand\n",
    "chocolate.loc[(chocolate['Iron'] >= 20) & (chocolate['Pure'] == 'Y') & (chocolate['Roasted'] == 'Y')\n",
    "             & (chocolate['Bean Type'] == 'Blend (forastero, trinitario)')]       "
   ]
  }
 ],
 "metadata": {
  "kernelspec": {
   "display_name": "Python 3",
   "language": "python",
   "name": "python3"
  },
  "language_info": {
   "codemirror_mode": {
    "name": "ipython",
    "version": 3
   },
   "file_extension": ".py",
   "mimetype": "text/x-python",
   "name": "python",
   "nbconvert_exporter": "python",
   "pygments_lexer": "ipython3",
   "version": "3.6.7"
  }
 },
 "nbformat": 4,
 "nbformat_minor": 2
}
